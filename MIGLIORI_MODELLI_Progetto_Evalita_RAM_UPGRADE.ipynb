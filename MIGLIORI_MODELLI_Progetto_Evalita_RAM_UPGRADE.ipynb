{
  "nbformat": 4,
  "nbformat_minor": 0,
  "metadata": {
    "colab": {
      "name": "MIGLIORI MODELLI Progetto_Evalita_RAM_UPGRADE.ipynb",
      "provenance": [],
      "collapsed_sections": [],
      "machine_shape": "hm",
      "include_colab_link": true
    },
    "kernelspec": {
      "display_name": "Python 3",
      "name": "python3"
    }
  },
  "cells": [
    {
      "cell_type": "markdown",
      "metadata": {
        "id": "view-in-github",
        "colab_type": "text"
      },
      "source": [
        "<a href=\"https://colab.research.google.com/github/proliuk/TASK-B-EVALITA-HASPEED-2020/blob/main/MIGLIORI_MODELLI_Progetto_Evalita_RAM_UPGRADE.ipynb\" target=\"_parent\"><img src=\"https://colab.research.google.com/assets/colab-badge.svg\" alt=\"Open In Colab\"/></a>"
      ]
    },
    {
      "cell_type": "code",
      "metadata": {
        "id": "bvUqTy5rki0G",
        "colab": {
          "base_uri": "https://localhost:8080/"
        },
        "outputId": "a7fa2347-0a28-49dd-aaf0-717970819e09"
      },
      "source": [
        "!pip install tweet-preprocessor\n",
        "!pip install tqdm\n",
        "!pip install emoji\n",
        "!pip install fasttext"
      ],
      "execution_count": null,
      "outputs": [
        {
          "output_type": "stream",
          "text": [
            "Requirement already satisfied: tweet-preprocessor in /usr/local/lib/python3.7/dist-packages (0.6.0)\n",
            "Requirement already satisfied: tqdm in /usr/local/lib/python3.7/dist-packages (4.41.1)\n",
            "Requirement already satisfied: emoji in /usr/local/lib/python3.7/dist-packages (1.4.1)\n",
            "Requirement already satisfied: fasttext in /usr/local/lib/python3.7/dist-packages (0.9.2)\n",
            "Requirement already satisfied: numpy in /usr/local/lib/python3.7/dist-packages (from fasttext) (1.19.5)\n",
            "Requirement already satisfied: setuptools>=0.7.0 in /usr/local/lib/python3.7/dist-packages (from fasttext) (57.2.0)\n",
            "Requirement already satisfied: pybind11>=2.2 in /usr/local/lib/python3.7/dist-packages (from fasttext) (2.7.0)\n"
          ],
          "name": "stdout"
        }
      ]
    },
    {
      "cell_type": "code",
      "metadata": {
        "id": "HYXTIC93kkmd",
        "colab": {
          "base_uri": "https://localhost:8080/"
        },
        "outputId": "432f19f5-7701-4e0a-f067-42f48d0c27f7"
      },
      "source": [
        "import tensorflow as tf\n",
        "print(tf.__version__)"
      ],
      "execution_count": null,
      "outputs": [
        {
          "output_type": "stream",
          "text": [
            "2.5.0\n"
          ],
          "name": "stdout"
        }
      ]
    },
    {
      "cell_type": "code",
      "metadata": {
        "id": "8Zq7Ap1vknYI",
        "colab": {
          "base_uri": "https://localhost:8080/"
        },
        "outputId": "333c9006-a3ff-491e-89a1-265da3d1b284"
      },
      "source": [
        "import preprocessor as p\n",
        "import re\n",
        "import numpy as np\n",
        "import nltk\n",
        "nltk.download('stopwords')\n",
        "nltk.download('punkt')\n",
        "from nltk.corpus import stopwords\n",
        "from nltk.tokenize import word_tokenize\n",
        "import pandas as pd\n",
        "from nltk.stem import SnowballStemmer\n",
        "from tqdm import tqdm\n",
        "tqdm.pandas()\n",
        "import csv\n",
        "import emoji\n",
        "len(stopwords.words('italian'))\n",
        "from google.colab import drive\n",
        "drive.mount('/content/drive')\n",
        "\n",
        "import sklearn\n",
        "from sklearn.model_selection import train_test_split\n",
        "from sklearn.metrics import classification_report, accuracy_score, confusion_matrix\n",
        "\n",
        "import matplotlib.pyplot as plt\n",
        "import gzip\n",
        "\n",
        "from keras import layers\n",
        "from keras.models import Sequential\n",
        "from keras.layers import Dense, Activation\n",
        "from keras.preprocessing.text import Tokenizer, one_hot\n",
        "from keras.preprocessing.sequence import pad_sequences\n",
        "\n",
        "from string import punctuation\n",
        "import string"
      ],
      "execution_count": null,
      "outputs": [
        {
          "output_type": "stream",
          "text": [
            "[nltk_data] Downloading package stopwords to /root/nltk_data...\n",
            "[nltk_data]   Package stopwords is already up-to-date!\n",
            "[nltk_data] Downloading package punkt to /root/nltk_data...\n",
            "[nltk_data]   Package punkt is already up-to-date!\n",
            "Drive already mounted at /content/drive; to attempt to forcibly remount, call drive.mount(\"/content/drive\", force_remount=True).\n"
          ],
          "name": "stdout"
        },
        {
          "output_type": "stream",
          "text": [
            "/usr/local/lib/python3.7/dist-packages/tqdm/std.py:658: FutureWarning: The Panel class is removed from pandas. Accessing it from the top-level namespace will also be removed in the next version\n",
            "  from pandas import Panel\n"
          ],
          "name": "stderr"
        }
      ]
    },
    {
      "cell_type": "code",
      "metadata": {
        "id": "nhR7DSfbkpjX"
      },
      "source": [
        "#new column in the dataframe\n",
        "df_cols = [\"Testo\", \"Odio\", \"Stereotipo\"]\n",
        "\n",
        "df = pd.read_table('/content/drive/MyDrive/Progetto Evalita/haspeede2_dev_taskAB.tsv', delimiter=\"\\t|\\t0\",encoding='utf-8', names = df_cols, engine='python')\n",
        "df = df.drop(df.index[0])\n",
        "\n",
        "#change values in the column label based on values\n",
        "df.Stereotipo.replace(to_replace =\"1\", value = 1, inplace = True)\n",
        "df.Stereotipo.replace(to_replace =\"0\", value = 0, inplace = True)"
      ],
      "execution_count": null,
      "outputs": []
    },
    {
      "cell_type": "code",
      "metadata": {
        "id": "a5bVZpVdkrd1",
        "colab": {
          "base_uri": "https://localhost:8080/",
          "height": 422
        },
        "outputId": "8f6e4291-e22d-4fcb-a5ef-7e1fcec2d2cf"
      },
      "source": [
        "df = df[[\"Testo\",\"Stereotipo\"]]\n",
        "df"
      ],
      "execution_count": null,
      "outputs": [
        {
          "output_type": "execute_result",
          "data": {
            "text/html": [
              "<div>\n",
              "<style scoped>\n",
              "    .dataframe tbody tr th:only-of-type {\n",
              "        vertical-align: middle;\n",
              "    }\n",
              "\n",
              "    .dataframe tbody tr th {\n",
              "        vertical-align: top;\n",
              "    }\n",
              "\n",
              "    .dataframe thead th {\n",
              "        text-align: right;\n",
              "    }\n",
              "</style>\n",
              "<table border=\"1\" class=\"dataframe\">\n",
              "  <thead>\n",
              "    <tr style=\"text-align: right;\">\n",
              "      <th></th>\n",
              "      <th>Testo</th>\n",
              "      <th>Stereotipo</th>\n",
              "    </tr>\n",
              "  </thead>\n",
              "  <tbody>\n",
              "    <tr>\n",
              "      <th>2066</th>\n",
              "      <td>È terrorismo anche questo, per mettere in uno ...</td>\n",
              "      <td>0</td>\n",
              "    </tr>\n",
              "    <tr>\n",
              "      <th>2045</th>\n",
              "      <td>@user @user infatti finché ci hanno guadagnato...</td>\n",
              "      <td>0</td>\n",
              "    </tr>\n",
              "    <tr>\n",
              "      <th>61</th>\n",
              "      <td>Corriere: Tangenti, Mafia Capitale dimenticata...</td>\n",
              "      <td>0</td>\n",
              "    </tr>\n",
              "    <tr>\n",
              "      <th>1259</th>\n",
              "      <td>@user ad uno ad uno, perché quando i migranti ...</td>\n",
              "      <td>0</td>\n",
              "    </tr>\n",
              "    <tr>\n",
              "      <th>949</th>\n",
              "      <td>Il divertimento del giorno? Trovare i patrioti...</td>\n",
              "      <td>0</td>\n",
              "    </tr>\n",
              "    <tr>\n",
              "      <th>...</th>\n",
              "      <td>...</td>\n",
              "      <td>...</td>\n",
              "    </tr>\n",
              "    <tr>\n",
              "      <th>9340</th>\n",
              "      <td>Gli stati nazionali devono essere pronti a rin...</td>\n",
              "      <td>0</td>\n",
              "    </tr>\n",
              "    <tr>\n",
              "      <th>9121</th>\n",
              "      <td>Il ministro dell'interno della Germania #Horst...</td>\n",
              "      <td>0</td>\n",
              "    </tr>\n",
              "    <tr>\n",
              "      <th>8549</th>\n",
              "      <td>#Salvini: In Italia troppi si sono montati la ...</td>\n",
              "      <td>0</td>\n",
              "    </tr>\n",
              "    <tr>\n",
              "      <th>9240</th>\n",
              "      <td>@user @user Chi giubila in buona fede non ha c...</td>\n",
              "      <td>0</td>\n",
              "    </tr>\n",
              "    <tr>\n",
              "      <th>8000</th>\n",
              "      <td>I giovani cristiani in #Etiopia sono indotti d...</td>\n",
              "      <td>1</td>\n",
              "    </tr>\n",
              "  </tbody>\n",
              "</table>\n",
              "<p>6839 rows × 2 columns</p>\n",
              "</div>"
            ],
            "text/plain": [
              "                                                  Testo  Stereotipo\n",
              "2066  È terrorismo anche questo, per mettere in uno ...           0\n",
              "2045  @user @user infatti finché ci hanno guadagnato...           0\n",
              "61    Corriere: Tangenti, Mafia Capitale dimenticata...           0\n",
              "1259  @user ad uno ad uno, perché quando i migranti ...           0\n",
              "949   Il divertimento del giorno? Trovare i patrioti...           0\n",
              "...                                                 ...         ...\n",
              "9340  Gli stati nazionali devono essere pronti a rin...           0\n",
              "9121  Il ministro dell'interno della Germania #Horst...           0\n",
              "8549  #Salvini: In Italia troppi si sono montati la ...           0\n",
              "9240  @user @user Chi giubila in buona fede non ha c...           0\n",
              "8000  I giovani cristiani in #Etiopia sono indotti d...           1\n",
              "\n",
              "[6839 rows x 2 columns]"
            ]
          },
          "metadata": {
            "tags": []
          },
          "execution_count": 90
        }
      ]
    },
    {
      "cell_type": "code",
      "metadata": {
        "id": "Kh6wqw6nktST",
        "colab": {
          "base_uri": "https://localhost:8080/"
        },
        "outputId": "93291277-c057-40df-c310-39553a0d10d0"
      },
      "source": [
        "print(df['Testo'].iloc[6808])"
      ],
      "execution_count": null,
      "outputs": [
        {
          "output_type": "stream",
          "text": [
            "@user @user Questi analfabeti che schifate tanto sono quelli che con le loro tasse e le loro schiene mandano avanti il paese,fate proprio schifo con questo senso di superiorità.Nel frattempo imbarcate migranti ,futuri vostri elettori,tutti universitari! 😂😂😂😂 \n"
          ],
          "name": "stdout"
        }
      ]
    },
    {
      "cell_type": "code",
      "metadata": {
        "id": "ynjPqE6gkw6D"
      },
      "source": [
        "def custom_cleaning(text):\n",
        "    # rimuovere simboli e converto le emoji in parole\n",
        "    text  = \" \" + emoji.demojize(text, delimiters=(\" \", \" \"), language=\"it\")\n",
        "    text  = \"\".join([char for char in text if char not in '\"%\\()*+-/<=>[]^_`{|}~�✔'])   \n",
        "    text = re.sub(r\"[,.;@#?!&$]+\\ *\", \" \", text)\n",
        "    \n",
        "    # rimuovo le stopwords\n",
        "    text = text.lower().split()\n",
        "    text = [w for w in text if not w in stopwords.words('italian') and len(w) >= 3]\n",
        "    text = \" \".join(text)\n",
        "\n",
        "    # rimuovere numeri e stringhe più caratteristiche dei dati\n",
        "    text = re.sub('[0-9]+', '', text)\n",
        "    text = re.sub('user', '', text)\n",
        "    text = re.sub('url', '', text)\n",
        "    text = re.sub(\"'\", ' ', text)\n",
        "    text = re.sub(\"…\", ' ', text)\n",
        "    text = re.sub(\"#\", ' ', text)\n",
        "    \n",
        "    \n",
        "    return text"
      ],
      "execution_count": null,
      "outputs": []
    },
    {
      "cell_type": "code",
      "metadata": {
        "id": "RON9ZkDzkxix"
      },
      "source": [
        "def stemming(text):\n",
        "\n",
        "  text = text.split()\n",
        "  stemmed_words = [SnowballStemmer('italian').stem(word) for word in text] \n",
        "  text = \" \".join(stemmed_words)\n",
        "\n",
        "  return text"
      ],
      "execution_count": null,
      "outputs": []
    },
    {
      "cell_type": "code",
      "metadata": {
        "id": "mMsFhhzIk0ae"
      },
      "source": [
        "def clean_text(text):\n",
        "  \n",
        "  # I° pulizia del testo (stopwords, simboli, coversione emoji, caratteri non necessari)\n",
        "  text_cleaned = custom_cleaning(text)\n",
        "\n",
        "  # II° pulizia del testo tramite la libreria per i tweet\n",
        "  p.set_options(p.OPT.NUMBER, p.OPT.URL)\n",
        "  text_cleaned = p.clean(text_cleaned)\n",
        "\n",
        "  # Stemmming del testo pulito\n",
        "  #Ricordarsi di commentare quando usiamo il vocabolario di FASTTEXT poichè risulta migliore senza lo steamming delle parole\n",
        "  text_cleaned = stemming(text_cleaned) \n",
        "\n",
        "  return text_cleaned"
      ],
      "execution_count": null,
      "outputs": []
    },
    {
      "cell_type": "code",
      "metadata": {
        "id": "X0T6UKN-k1ED",
        "colab": {
          "base_uri": "https://localhost:8080/"
        },
        "outputId": "4d56c0c2-4ed6-4151-ca7c-70d3d62ecc9b"
      },
      "source": [
        "df['Testo'] = df['Testo'].progress_map(lambda x: clean_text(x))"
      ],
      "execution_count": null,
      "outputs": [
        {
          "output_type": "stream",
          "text": [
            "100%|██████████| 6839/6839 [00:35<00:00, 191.50it/s]\n"
          ],
          "name": "stderr"
        }
      ]
    },
    {
      "cell_type": "code",
      "metadata": {
        "id": "2crBtJtUk2zm"
      },
      "source": [
        "X = df['Testo'].fillna('').to_list()\n",
        "Y = df['Stereotipo'].fillna('').to_list()"
      ],
      "execution_count": null,
      "outputs": []
    },
    {
      "cell_type": "code",
      "metadata": {
        "id": "n8ELDG4Uk4xU",
        "colab": {
          "base_uri": "https://localhost:8080/"
        },
        "outputId": "7ba05cbd-318c-4dd5-c4ed-01448ea8fc98"
      },
      "source": [
        "print(X[15])\n",
        "print(Y[15])"
      ],
      "execution_count": null,
      "outputs": [
        {
          "output_type": "stream",
          "text": [
            "rom torin graz colleg camp rom quintacolonn mediaset staser cal esponenzial furt deldebb\n",
            "1\n"
          ],
          "name": "stdout"
        }
      ]
    },
    {
      "cell_type": "code",
      "metadata": {
        "id": "2BSfe7oJk8Gx",
        "colab": {
          "base_uri": "https://localhost:8080/"
        },
        "outputId": "9f9001f2-688f-4ee7-dfac-18e4dbe9f38b"
      },
      "source": [
        "#Contiano la lunghezza max e min delle frasi con e senza stereotipi\n",
        "#e conto il numero di classi per gli stereotipi e non.\n",
        "maxS = 0\n",
        "minS = 0\n",
        "maxNS = 0\n",
        "minNS = 0\n",
        "n_Stereotipi = 0 \n",
        "n_NonStereotipi = 0 \n",
        "FraseMaxS = ''\n",
        "FraseMaxNS = ''\n",
        "\n",
        "for ex in tqdm(range(len(X))):\n",
        "  if Y[ex] == 1:\n",
        "    n_Stereotipi += 1\n",
        "    if len(X[ex]) > maxS:\n",
        "      maxS = len(X[ex])\n",
        "      FraseMaxS = X[ex]\n",
        "    if len(X[ex]) < minS or minS == 0:\n",
        "      minS = len(X[ex])\n",
        "  else:\n",
        "    n_NonStereotipi += 1\n",
        "    if len(X[ex]) > maxNS:\n",
        "      maxNS = len(X[ex])\n",
        "      FraseMaxNS = X[ex]\n",
        "    if len(X[ex]) < minNS or minNS == 0:\n",
        "      minNS = len(X[ex])\n",
        "\n",
        "print(\"Num Stereotipi: \" + str(n_Stereotipi))\n",
        "print(\"Num non Stereotipi: \" + str(n_NonStereotipi))\n",
        "print(\"Lunghezza Min Stereotipi: \" + str(minS))\n",
        "print(\"Lunghezza Max Stereotipi: \" + str(maxS))\n",
        "print(FraseMaxS)\n",
        "print(\"Lunghezza Min Non Stereotipi: \" + str(minNS))\n",
        "print(\"Lunghezza Max Non Stereotipi: \" + str(maxNS))\n",
        "print(FraseMaxNS)  "
      ],
      "execution_count": null,
      "outputs": [
        {
          "output_type": "stream",
          "text": [
            "100%|██████████| 6839/6839 [00:00<00:00, 936189.46it/s]"
          ],
          "name": "stderr"
        },
        {
          "output_type": "stream",
          "text": [
            "Num Stereotipi: 3042\n",
            "Num non Stereotipi: 3797\n",
            "Lunghezza Min Stereotipi: 5\n",
            "Lunghezza Max Stereotipi: 384\n",
            "ridereacrepapell ridereacrepapell ridereacrepapell faccinaconlacrimedigioi faccinaconlacrimedigioi faccinaconlacrimedigioi faccinaraggianteconocchifel faccinaraggianteconocchifel faccinaraggianteconocchifel sav sav rid vuo andar legg sav fals buonist pdiot ipocr radical chic grand amic migrant clandestin african delinquent senz document legg quas ugual quind sindac pag pegn giustiz\n",
            "Lunghezza Min Non Stereotipi: 7\n",
            "Lunghezza Max Non Stereotipi: 252\n",
            "francescan chiud port protegg portafogl meg padron protegg ladr farabutt evasor tolg tass ricc sold pover cacc immigr tolg rdc negr zingar insult francescan faccinaconlacrimedigioi faccinaconlacrimedigioi faccinaconlacrimedigioi faccinaconlacrimedigioi\n"
          ],
          "name": "stdout"
        },
        {
          "output_type": "stream",
          "text": [
            "\n"
          ],
          "name": "stderr"
        }
      ]
    },
    {
      "cell_type": "code",
      "metadata": {
        "id": "P21SBcCuk8tV"
      },
      "source": [
        "RANDOM_STATE = 42\n",
        "\n",
        "# Split train & test\n",
        "text_train, text_test, y_train, y_test = train_test_split(X, Y, test_size=0.2, random_state=RANDOM_STATE)\n",
        "print(text_train[0])\n",
        "print(text_train[1])\n",
        "\n",
        "#TO DO : \n",
        "#Tokenize and transform to integer index\n",
        "tokenizer = Tokenizer()\n",
        "\n",
        "tokenizer.fit_on_texts(text_train)\n",
        "\n",
        "X_train = tokenizer.texts_to_sequences(text_train)\n",
        "X_test  = tokenizer.texts_to_sequences(text_test)\n",
        "\n",
        "#TO DO: get some statistics\n",
        "vocab_size = len(tokenizer.word_index) + 1 # adding 1 because of reserverd 0 index\n",
        "\n",
        "print(\"vocabulary size: \", vocab_size)\n",
        "\n",
        "maxlen_train = max( len(x) for x in X_train)\n",
        "maxlen_test = max( len(x) for x in X_test)\n",
        "\n",
        "minlen_train = min( len(x) for x in X_train)\n",
        "minlen_test = min( len(x) for x in X_test)\n",
        "\n",
        "print(\"maxlen train dataset: \", maxlen_train)\n",
        "print(\"maxlen test dataset: \", maxlen_test)\n",
        "\n",
        "print(\"minlen train dataset: \", minlen_train)\n",
        "print(\"minlen test dataset: \", minlen_test)\n",
        "\n",
        "\n",
        "tokenizer.get_config()"
      ],
      "execution_count": null,
      "outputs": []
    },
    {
      "cell_type": "code",
      "metadata": {
        "id": "VcktWnKDJOw3"
      },
      "source": [
        "print(\"Esempio di un vettore di train :\")\n",
        "print(str(X_train[0]))\n",
        "print(\"--------------------------\")\n",
        "print(\"Shape del train \" + str(X_train.shape))"
      ],
      "execution_count": null,
      "outputs": []
    },
    {
      "cell_type": "code",
      "metadata": {
        "id": "o7e0VHOpk_JS"
      },
      "source": [
        "# Add pading to ensure all vectors have same dimensionality\n",
        "maxlen = maxlen_train\n",
        "\n",
        "X_train = pad_sequences(X_train, padding = \"post\", maxlen = maxlen)\n",
        "X_test = pad_sequences(X_test, padding = \"post\", maxlen = maxlen)"
      ],
      "execution_count": null,
      "outputs": []
    },
    {
      "cell_type": "code",
      "metadata": {
        "id": "D4JtH92jlBMQ",
        "colab": {
          "base_uri": "https://localhost:8080/"
        },
        "outputId": "f4e9f263-b6d0-4c1c-9e6e-91832c3dc0ce"
      },
      "source": [
        "print(\"Esempio di un vettore di train :\")\n",
        "print(str(X_train[0]))\n",
        "print(\"--------------------------\")\n",
        "print(\"Shape del train \" + str(X_train.shape))"
      ],
      "execution_count": null,
      "outputs": [
        {
          "output_type": "stream",
          "text": [
            "Esempio di un vettore di train :\n",
            "[1383 1214 6749 1384    4  910  659   24  540    2  307  613    0    0\n",
            "    0    0    0    0    0    0    0    0    0    0    0    0    0    0\n",
            "    0    0    0    0    0    0    0    0    0    0]\n",
            "--------------------------\n",
            "Shape del train (5471, 38)\n"
          ],
          "name": "stdout"
        }
      ]
    },
    {
      "cell_type": "code",
      "metadata": {
        "id": "HvOoZWA4lCt5",
        "colab": {
          "base_uri": "https://localhost:8080/"
        },
        "outputId": "0a4681d0-c7a1-4b3f-a3ec-553a9f7061a1"
      },
      "source": [
        "print(\"Esempio di un vettore di test :\")\n",
        "print(str(X_test[0]))\n",
        "print(\"--------------------------\")\n",
        "print(\"Shape del test \" + str(X_test.shape))"
      ],
      "execution_count": null,
      "outputs": [
        {
          "output_type": "stream",
          "text": [
            "Esempio di un vettore di test :\n",
            "[ 120   29   37 2208  133 4024  499    7 1349  368    2 3687    0    0\n",
            "    0    0    0    0    0    0    0    0    0    0    0    0    0    0\n",
            "    0    0    0    0    0    0    0    0    0    0]\n",
            "--------------------------\n",
            "Shape del test (1368, 38)\n"
          ],
          "name": "stdout"
        }
      ]
    },
    {
      "cell_type": "code",
      "metadata": {
        "id": "Tj8tU7zhlEkt"
      },
      "source": [
        "def create_model(embedding_dim):\n",
        "\n",
        "  model_dense = tf.keras.Sequential()\n",
        "  model_dense.add(tf.keras.layers.Embedding(vocab_size,embedding_dim, input_length = maxlen))\n",
        "  model_dense.add(tf.keras.layers.Flatten())\n",
        "  model_dense.add(tf.keras.layers.Dense(64, activation = \"relu\", bias_initializer=tf.keras.initializers.Constant(0.1)))\n",
        "  model_dense.add(tf.keras.layers.Dropout(0.3))\n",
        "  model_dense.add(tf.keras.layers.Dense(32, activation = \"relu\", bias_initializer=tf.keras.initializers.Constant(0.1)))\n",
        "  model_dense.add(tf.keras.layers.Dropout(0.3))\n",
        "  model_dense.add(tf.keras.layers.Dense(16, activation = \"relu\", bias_initializer=tf.keras.initializers.Constant(0.1)))\n",
        "  model_dense.add(tf.keras.layers.Dropout(0.3))\n",
        "  model_dense.add(tf.keras.layers.Dense(1, activation = \"sigmoid\", bias_initializer=\"zeros\"))\n",
        "\n",
        "  model_dense.compile(optimizer = \"adam\", loss =\"binary_crossentropy\", metrics = [\"accuracy\"] )\n",
        "  return model_dense"
      ],
      "execution_count": null,
      "outputs": []
    },
    {
      "cell_type": "code",
      "metadata": {
        "id": "bJXaa0dilG96",
        "colab": {
          "base_uri": "https://localhost:8080/"
        },
        "outputId": "e88047e3-d3af-4621-d485-b17f150477fb"
      },
      "source": [
        "model_dense = create_model(100) #Embedding Dim\n",
        "model_dense.summary()"
      ],
      "execution_count": null,
      "outputs": [
        {
          "output_type": "stream",
          "text": [
            "Model: \"sequential_19\"\n",
            "_________________________________________________________________\n",
            "Layer (type)                 Output Shape              Param #   \n",
            "=================================================================\n",
            "embedding_19 (Embedding)     (None, 38, 100)           1053100   \n",
            "_________________________________________________________________\n",
            "flatten_19 (Flatten)         (None, 3800)              0         \n",
            "_________________________________________________________________\n",
            "dense_72 (Dense)             (None, 64)                243264    \n",
            "_________________________________________________________________\n",
            "dropout_54 (Dropout)         (None, 64)                0         \n",
            "_________________________________________________________________\n",
            "dense_73 (Dense)             (None, 32)                2080      \n",
            "_________________________________________________________________\n",
            "dropout_55 (Dropout)         (None, 32)                0         \n",
            "_________________________________________________________________\n",
            "dense_74 (Dense)             (None, 16)                528       \n",
            "_________________________________________________________________\n",
            "dropout_56 (Dropout)         (None, 16)                0         \n",
            "_________________________________________________________________\n",
            "dense_75 (Dense)             (None, 1)                 17        \n",
            "=================================================================\n",
            "Total params: 1,298,989\n",
            "Trainable params: 1,298,989\n",
            "Non-trainable params: 0\n",
            "_________________________________________________________________\n"
          ],
          "name": "stdout"
        }
      ]
    },
    {
      "cell_type": "code",
      "metadata": {
        "id": "iADJpqj4lIoS",
        "colab": {
          "base_uri": "https://localhost:8080/"
        },
        "outputId": "e2fa1229-7af7-412c-9a3c-89311e6c911c"
      },
      "source": [
        "# Fit model and get the history\n",
        "history = model_dense.fit(np.array(X_train), np.array(y_train), epochs=10,verbose=True, validation_data=(np.array(X_test), np.array(y_test)),batch_size=1024)"
      ],
      "execution_count": null,
      "outputs": [
        {
          "output_type": "stream",
          "text": [
            "Epoch 1/10\n",
            "6/6 [==============================] - 1s 66ms/step - loss: 0.7005 - accuracy: 0.5257 - val_loss: 0.6901 - val_accuracy: 0.5358\n",
            "Epoch 2/10\n",
            "6/6 [==============================] - 0s 37ms/step - loss: 0.6892 - accuracy: 0.5441 - val_loss: 0.6844 - val_accuracy: 0.5365\n",
            "Epoch 3/10\n",
            "6/6 [==============================] - 0s 37ms/step - loss: 0.6820 - accuracy: 0.5619 - val_loss: 0.6829 - val_accuracy: 0.5563\n",
            "Epoch 4/10\n",
            "6/6 [==============================] - 0s 37ms/step - loss: 0.6766 - accuracy: 0.5745 - val_loss: 0.6805 - val_accuracy: 0.5753\n",
            "Epoch 5/10\n",
            "6/6 [==============================] - 0s 39ms/step - loss: 0.6701 - accuracy: 0.5950 - val_loss: 0.6790 - val_accuracy: 0.5753\n",
            "Epoch 6/10\n",
            "6/6 [==============================] - 0s 38ms/step - loss: 0.6588 - accuracy: 0.6205 - val_loss: 0.6683 - val_accuracy: 0.5914\n",
            "Epoch 7/10\n",
            "6/6 [==============================] - 0s 38ms/step - loss: 0.6329 - accuracy: 0.6770 - val_loss: 0.6530 - val_accuracy: 0.6243\n",
            "Epoch 8/10\n",
            "6/6 [==============================] - 0s 38ms/step - loss: 0.5781 - accuracy: 0.7607 - val_loss: 0.6179 - val_accuracy: 0.7003\n",
            "Epoch 9/10\n",
            "6/6 [==============================] - 0s 36ms/step - loss: 0.4914 - accuracy: 0.8317 - val_loss: 0.5886 - val_accuracy: 0.7156\n",
            "Epoch 10/10\n",
            "6/6 [==============================] - 0s 38ms/step - loss: 0.3811 - accuracy: 0.8806 - val_loss: 0.5762 - val_accuracy: 0.7230\n"
          ],
          "name": "stdout"
        }
      ]
    },
    {
      "cell_type": "code",
      "metadata": {
        "id": "AbjLSNYfLtDI"
      },
      "source": [
        "tf.keras.utils.plot_model(model_dense, show_shapes=True, show_dtype=True,\n",
        "    show_layer_names=True, rankdir='TB', expand_nested=True, dpi=300\n",
        ")\n"
      ],
      "execution_count": null,
      "outputs": []
    },
    {
      "cell_type": "code",
      "metadata": {
        "id": "G4MLThfvlLTB",
        "colab": {
          "base_uri": "https://localhost:8080/"
        },
        "outputId": "3230c558-0af9-4efd-b2f9-ff7d09841fa6"
      },
      "source": [
        "#TO DO : evaluate the model \n",
        "loss, accuracy = model_dense.evaluate(np.array(X_test), np.array(y_test), verbose = 1)"
      ],
      "execution_count": null,
      "outputs": [
        {
          "output_type": "stream",
          "text": [
            "43/43 [==============================] - 0s 2ms/step - loss: 0.5762 - accuracy: 0.7230\n"
          ],
          "name": "stdout"
        }
      ]
    },
    {
      "cell_type": "code",
      "metadata": {
        "id": "a8T_ec-tlM8J",
        "colab": {
          "base_uri": "https://localhost:8080/",
          "height": 337
        },
        "outputId": "32148ef5-c39d-4545-87d7-965f0b6aee0e"
      },
      "source": [
        "plt.style.use('ggplot')\n",
        "\n",
        "def plot_history(history):\n",
        "    acc = history.history['accuracy']\n",
        "    val_acc = history.history['val_accuracy']\n",
        "    loss = history.history['loss']\n",
        "    val_loss = history.history['val_loss']\n",
        "    x = range(1, len(acc) + 1)\n",
        "\n",
        "    plt.figure(figsize=(12, 5))\n",
        "    plt.subplot(1, 2, 1)\n",
        "    plt.plot(x, acc, 'b', label='Training acc')\n",
        "    plt.plot(x, val_acc, 'r', label='Validation acc')\n",
        "    plt.title('Training and validation accuracy')\n",
        "    plt.legend()\n",
        "    plt.subplot(1, 2, 2)\n",
        "    plt.plot(x, loss, 'b', label='Training loss')\n",
        "    plt.plot(x, val_loss, 'r', label='Validation loss')\n",
        "    plt.title('Training and validation loss')\n",
        "    plt.legend()\n",
        "    plt.show()\n",
        "\n",
        "plot_history(history)"
      ],
      "execution_count": null,
      "outputs": [
        {
          "output_type": "display_data",
          "data": {
            "image/png": "[encoded data removed]",
            "text/plain": [
              "<Figure size 864x360 with 2 Axes>"
            ]
          },
          "metadata": {
            "tags": []
          }
        }
      ]
    },
    {
      "cell_type": "code",
      "metadata": {
        "id": "7KRqgnHrlNme",
        "colab": {
          "base_uri": "https://localhost:8080/"
        },
        "outputId": "cb0b255f-08f3-4b37-b933-2880513c9a73"
      },
      "source": [
        "y_pred = model_dense.predict_classes(X_test)\n",
        "errori_commessi = 0\n",
        "corretto = 0\n",
        "count = 0\n",
        "print()\n",
        "for i in range(0, y_pred.size):\n",
        "    count += 1\n",
        "    if(np.around(y_pred[i], decimals = 0) != y_test[i]):\n",
        "        errori_commessi+=1\n",
        "    else:\n",
        "        corretto+=1\n",
        "\n",
        "from sklearn.metrics import accuracy_score\n",
        "print(\"Accuratezza: \", accuracy_score(y_test,y_pred))\n",
        "print()\n",
        "print('Dimensione training set: ', np.array(y_train).size)\n",
        "print('Dimensione test set: ', np.array(y_pred).size)\n",
        "print()\n",
        "print('Previsioni Corrette: ', corretto)\n",
        "print('Errori Commessi: ', errori_commessi)\n",
        "accuratezza = round((corretto/np.array(y_pred).size*100),2)\n",
        "print('Accuratezza: ', accuratezza,'%')\n",
        "print()\n",
        "print(classification_report(y_test,y_pred))"
      ],
      "execution_count": null,
      "outputs": [
        {
          "output_type": "stream",
          "text": [
            "\n",
            "Accuratezza:  0.722953216374269\n",
            "\n",
            "Dimensione training set:  5471\n",
            "Dimensione test set:  1368\n",
            "\n",
            "Previsioni Corrette:  989\n",
            "Errori Commessi:  379\n",
            "Accuratezza:  72.3 %\n",
            "\n",
            "              precision    recall  f1-score   support\n",
            "\n",
            "           0       0.72      0.79      0.75       733\n",
            "           1       0.73      0.64      0.68       635\n",
            "\n",
            "    accuracy                           0.72      1368\n",
            "   macro avg       0.72      0.72      0.72      1368\n",
            "weighted avg       0.72      0.72      0.72      1368\n",
            "\n"
          ],
          "name": "stdout"
        },
        {
          "output_type": "stream",
          "text": [
            "/usr/local/lib/python3.7/dist-packages/tensorflow/python/keras/engine/sequential.py:455: UserWarning: `model.predict_classes()` is deprecated and will be removed after 2021-01-01. Please use instead:* `np.argmax(model.predict(x), axis=-1)`,   if your model does multi-class classification   (e.g. if it uses a `softmax` last-layer activation).* `(model.predict(x) > 0.5).astype(\"int32\")`,   if your model does binary classification   (e.g. if it uses a `sigmoid` last-layer activation).\n",
            "  warnings.warn('`model.predict_classes()` is deprecated and '\n"
          ],
          "name": "stderr"
        }
      ]
    },
    {
      "cell_type": "code",
      "metadata": {
        "id": "jKYndUGglRC-",
        "colab": {
          "base_uri": "https://localhost:8080/",
          "height": 282
        },
        "outputId": "33ba83c4-ec74-4536-d896-cc782596aafa"
      },
      "source": [
        "import matplotlib.pyplot as plt\n",
        "from mlxtend.plotting import plot_confusion_matrix\n",
        "cm = confusion_matrix(y_test,y_pred)\n",
        "fig, ax = plot_confusion_matrix(conf_mat=cm)\n",
        "plt.show()"
      ],
      "execution_count": null,
      "outputs": [
        {
          "output_type": "display_data",
          "data": {
            "image/png": "[encoded data removed]",
            "text/plain": [
              "<Figure size 432x288 with 1 Axes>"
            ]
          },
          "metadata": {
            "tags": []
          }
        }
      ]
    },
    {
      "cell_type": "code",
      "metadata": {
        "id": "1CBriViYucpj",
        "colab": {
          "base_uri": "https://localhost:8080/"
        },
        "outputId": "4da7fef5-183c-4c90-f5a3-1dc90a96cacb"
      },
      "source": [
        "#predizione di una frase \n",
        "x_sample = input(\"inserisci il tweet da predire: \")\n",
        "print(x_sample)\n",
        "x_sample = clean_text(x_sample)\n",
        "x_sample=[x_sample]\n",
        "print(x_sample)\n",
        "x_sample_token = tokenizer.texts_to_sequences(x_sample)\n",
        "print(x_sample_token)\n",
        "\n",
        "x_sample_token = pad_sequences(x_sample_token, padding = \"post\", maxlen = maxlen)\n",
        "print(x_sample_token)\n",
        "\n",
        "print(\"La predizione è: \")\n",
        "predizione = model_dense.predict_classes(x_sample_token)\n",
        "print(predizione)"
      ],
      "execution_count": null,
      "outputs": [
        {
          "output_type": "stream",
          "text": [
            "inserisci il tweet da predire: rom ladri e stupratori\n",
            "rom ladri e stupratori\n",
            "['rom ladr stuprator']\n",
            "[[1, 176, 281]]\n",
            "[[  1 176 281   0   0   0   0   0   0   0   0   0   0   0   0   0   0   0\n",
            "    0   0   0   0   0   0   0   0   0   0   0   0   0   0   0   0   0   0\n",
            "    0   0]]\n",
            "La predizione è: \n",
            "[[1]]\n"
          ],
          "name": "stdout"
        },
        {
          "output_type": "stream",
          "text": [
            "/usr/local/lib/python3.7/dist-packages/tensorflow/python/keras/engine/sequential.py:455: UserWarning: `model.predict_classes()` is deprecated and will be removed after 2021-01-01. Please use instead:* `np.argmax(model.predict(x), axis=-1)`,   if your model does multi-class classification   (e.g. if it uses a `softmax` last-layer activation).* `(model.predict(x) > 0.5).astype(\"int32\")`,   if your model does binary classification   (e.g. if it uses a `sigmoid` last-layer activation).\n",
            "  warnings.warn('`model.predict_classes()` is deprecated and '\n"
          ],
          "name": "stderr"
        }
      ]
    },
    {
      "cell_type": "markdown",
      "metadata": {
        "id": "IZv09cr7lWlm"
      },
      "source": [
        "MODELLO CON VOCABOLARIO FASTTEXT\n"
      ]
    },
    {
      "cell_type": "code",
      "metadata": {
        "colab": {
          "base_uri": "https://localhost:8080/"
        },
        "id": "kOad1PVZOZ_7",
        "outputId": "02673a82-2367-45e0-aaec-e00f3b59ad62"
      },
      "source": [
        "print(X[15])\n",
        "print(Y[15])"
      ],
      "execution_count": null,
      "outputs": [
        {
          "output_type": "stream",
          "text": [
            "roma torino grazie collegamento campi rom quintacolonna mediaset stasera calo esponenziale furti deldebbio\n",
            "1\n"
          ],
          "name": "stdout"
        }
      ]
    },
    {
      "cell_type": "code",
      "metadata": {
        "id": "ZJkVotx2ldBu"
      },
      "source": [
        "import fasttext\n",
        "import fasttext.util"
      ],
      "execution_count": null,
      "outputs": []
    },
    {
      "cell_type": "code",
      "metadata": {
        "id": "g5L6f8oMheYQ"
      },
      "source": [
        "ft = fasttext.load_model('/content/drive/MyDrive/Progetto Evalita/cc.it.100.bin')"
      ],
      "execution_count": null,
      "outputs": []
    },
    {
      "cell_type": "code",
      "metadata": {
        "id": "H1iQ6h3SrPY9",
        "colab": {
          "base_uri": "https://localhost:8080/"
        },
        "outputId": "aff1636b-3a84-466e-a6a9-e4ff14739ede"
      },
      "source": [
        "ft.get_word_vector('gatto').shape"
      ],
      "execution_count": null,
      "outputs": [
        {
          "output_type": "execute_result",
          "data": {
            "text/plain": [
              "(100,)"
            ]
          },
          "metadata": {
            "tags": []
          },
          "execution_count": 607
        }
      ]
    },
    {
      "cell_type": "code",
      "metadata": {
        "id": "xzJeCI1ZrITL",
        "colab": {
          "base_uri": "https://localhost:8080/"
        },
        "outputId": "5652f927-bba3-40ff-8673-c0d5985f06ff"
      },
      "source": [
        "ft.get_nearest_neighbors('gatto')"
      ],
      "execution_count": null,
      "outputs": [
        {
          "output_type": "execute_result",
          "data": {
            "text/plain": [
              "[(0.8999981880187988, 'cane'),\n",
              " (0.8771999478340149, 'gattino'),\n",
              " (0.8680503964424133, 'criceto'),\n",
              " (0.8668853044509888, 'micio'),\n",
              " (0.8596745133399963, 'coniglio'),\n",
              " (0.8556078672409058, 'topo'),\n",
              " (0.8519355654716492, 'pappagallo'),\n",
              " (0.8409976959228516, 'cucciolo'),\n",
              " (0.8267292976379395, 'felino'),\n",
              " (0.8143686056137085, 'cagnolino')]"
            ]
          },
          "metadata": {
            "tags": []
          },
          "execution_count": 608
        }
      ]
    },
    {
      "cell_type": "markdown",
      "metadata": {
        "id": "9DAOtt0kl4dJ"
      },
      "source": [
        "creo matrice e modello con fasttext"
      ]
    },
    {
      "cell_type": "code",
      "metadata": {
        "id": "j8_d5VbGl4IM"
      },
      "source": [
        "embedding_dim = 100"
      ],
      "execution_count": null,
      "outputs": []
    },
    {
      "cell_type": "code",
      "metadata": {
        "id": "TfQ15ns-l-Z4",
        "colab": {
          "base_uri": "https://localhost:8080/"
        },
        "outputId": "dbc8de96-5294-4bab-f053-3186f004bbfb"
      },
      "source": [
        "embeddings_matrix = np.zeros((vocab_size, embedding_dim)) \n",
        "print(vocab_size)"
      ],
      "execution_count": null,
      "outputs": [
        {
          "output_type": "stream",
          "text": [
            "16370\n"
          ],
          "name": "stdout"
        }
      ]
    },
    {
      "cell_type": "code",
      "metadata": {
        "id": "dzJmyxSOmAIj",
        "colab": {
          "base_uri": "https://localhost:8080/"
        },
        "outputId": "ec6de6a8-64e9-464a-e2dd-0848e16b96e3"
      },
      "source": [
        "count1 = 0\n",
        "count2 = 0\n",
        "for word, index in tokenizer.word_index.items():\n",
        "  if index > vocab_size-1:\n",
        "    break\n",
        "  embedding_vector = ft.get_word_vector(word)\n",
        "  if embedding_vector is not None:\n",
        "    embeddings_matrix[index] = embedding_vector\n",
        "    count1 += 1\n",
        "  else:\n",
        "    count2 += 1\n",
        "print(\"Parole del nostro vocabolario presenti nella matrice: \"+ str(count1))\n",
        "print(\"Parole del nostro vocabolario non presenti nella matrice: \"+ str(count2))"
      ],
      "execution_count": null,
      "outputs": [
        {
          "output_type": "stream",
          "text": [
            "Parole del nostro vocabolario presenti nella matrice: 16369\n",
            "Parole del nostro vocabolario non presenti nella matrice: 0\n"
          ],
          "name": "stdout"
        }
      ]
    },
    {
      "cell_type": "code",
      "metadata": {
        "id": "k5Xxm8C_mB6C",
        "colab": {
          "base_uri": "https://localhost:8080/"
        },
        "outputId": "bfc5b3db-923d-41df-e08a-de80cb37603f"
      },
      "source": [
        "model_prova = tf.keras.Sequential()\n",
        "model_prova.add(tf.keras.layers.Embedding(vocab_size, embedding_dim, input_length=maxlen, weights = [embeddings_matrix], trainable = False))\n",
        "model_prova.add(tf.keras.layers.Flatten())\n",
        "model_prova.add(tf.keras.layers.Dense(128, activation='relu', bias_initializer='zeros' ))\n",
        "model_prova.add(tf.keras.layers.Dense(64, activation='relu', bias_initializer='zeros' ))\n",
        "model_prova.add(tf.keras.layers.Dense(32, activation='relu', bias_initializer='zeros' ))\n",
        "model_prova.add(tf.keras.layers.Dense(1, activation='sigmoid', bias_initializer='zeros' ))\n",
        "model_prova.compile(optimizer = \"adam\", loss =\"binary_crossentropy\", metrics = [\"accuracy\"] )\n",
        "model_prova.summary()"
      ],
      "execution_count": null,
      "outputs": [
        {
          "output_type": "stream",
          "text": [
            "Model: \"sequential_180\"\n",
            "_________________________________________________________________\n",
            "Layer (type)                 Output Shape              Param #   \n",
            "=================================================================\n",
            "embedding_180 (Embedding)    (None, 38, 100)           1637000   \n",
            "_________________________________________________________________\n",
            "flatten_180 (Flatten)        (None, 3800)              0         \n",
            "_________________________________________________________________\n",
            "dense_637 (Dense)            (None, 128)               486528    \n",
            "_________________________________________________________________\n",
            "dense_638 (Dense)            (None, 64)                8256      \n",
            "_________________________________________________________________\n",
            "dense_639 (Dense)            (None, 32)                2080      \n",
            "_________________________________________________________________\n",
            "dense_640 (Dense)            (None, 1)                 33        \n",
            "=================================================================\n",
            "Total params: 2,133,897\n",
            "Trainable params: 496,897\n",
            "Non-trainable params: 1,637,000\n",
            "_________________________________________________________________\n"
          ],
          "name": "stdout"
        }
      ]
    },
    {
      "cell_type": "code",
      "metadata": {
        "id": "dVhuRD4DmDux",
        "colab": {
          "base_uri": "https://localhost:8080/"
        },
        "outputId": "39a2c49b-a0b0-4356-a3c4-3db88a84aa9a"
      },
      "source": [
        "history = model_prova.fit(np.array(X_train), np.array(y_train), epochs=4,verbose=True, validation_data=(np.array(X_test), np.array(y_test)),batch_size=128)"
      ],
      "execution_count": null,
      "outputs": [
        {
          "output_type": "stream",
          "text": [
            "Epoch 1/4\n",
            "43/43 [==============================] - 1s 13ms/step - loss: 0.6627 - accuracy: 0.6061 - val_loss: 0.6442 - val_accuracy: 0.6243\n",
            "Epoch 2/4\n",
            "43/43 [==============================] - 0s 10ms/step - loss: 0.5772 - accuracy: 0.6959 - val_loss: 0.6353 - val_accuracy: 0.6506\n",
            "Epoch 3/4\n",
            "43/43 [==============================] - 0s 10ms/step - loss: 0.4886 - accuracy: 0.7600 - val_loss: 0.6405 - val_accuracy: 0.6696\n",
            "Epoch 4/4\n",
            "43/43 [==============================] - 0s 9ms/step - loss: 0.4091 - accuracy: 0.8132 - val_loss: 0.6692 - val_accuracy: 0.6762\n"
          ],
          "name": "stdout"
        }
      ]
    },
    {
      "cell_type": "code",
      "metadata": {
        "id": "-zWjHV3rmFzQ",
        "colab": {
          "base_uri": "https://localhost:8080/"
        },
        "outputId": "77ee18ab-e905-465c-c50d-f5b3635a2fa2"
      },
      "source": [
        "loss, accuracy = model_prova.evaluate(np.array(X_test), np.array(y_test), verbose = 1)"
      ],
      "execution_count": null,
      "outputs": [
        {
          "output_type": "stream",
          "text": [
            "43/43 [==============================] - 0s 3ms/step - loss: 0.6692 - accuracy: 0.6762\n"
          ],
          "name": "stdout"
        }
      ]
    },
    {
      "cell_type": "code",
      "metadata": {
        "id": "0haYv81MmHfc",
        "colab": {
          "base_uri": "https://localhost:8080/",
          "height": 337
        },
        "outputId": "f952c84e-9e83-4e86-b79c-cb36e089c35e"
      },
      "source": [
        "plt.style.use('ggplot')\n",
        "\n",
        "def plot_history(history):\n",
        "    acc = history.history['accuracy']\n",
        "    val_acc = history.history['val_accuracy']\n",
        "    \n",
        "    loss = history.history['loss']\n",
        "    val_loss = history.history['val_loss']\n",
        "    x = range(1, len(acc) + 1)\n",
        "\n",
        "    plt.figure(figsize=(12, 5))\n",
        "    plt.subplot(1, 2, 1)\n",
        "    plt.plot(x, acc, 'b', label='Training acc')\n",
        "    plt.plot(x, val_acc, 'r', label='Validation acc')\n",
        "    plt.title('Training and validation accuracy')\n",
        "    plt.legend()\n",
        "    plt.subplot(1, 2, 2)\n",
        "    plt.plot(x, loss, 'b', label='Training loss')\n",
        "    plt.plot(x, val_loss, 'r', label='Validation loss')\n",
        "    plt.title('Training and validation loss')\n",
        "    plt.legend()\n",
        "    plt.show()\n",
        "\n",
        "plot_history(history)"
      ],
      "execution_count": null,
      "outputs": [
        {
          "output_type": "display_data",
          "data": {
            "image/png": "[encoded data removed]",
            "text/plain": [
              "<Figure size 864x360 with 2 Axes>"
            ]
          },
          "metadata": {
            "tags": []
          }
        }
      ]
    },
    {
      "cell_type": "code",
      "metadata": {
        "id": "EWhVYdQ9mKfs",
        "colab": {
          "base_uri": "https://localhost:8080/"
        },
        "outputId": "ac5cf915-98a1-4dc6-ee66-deed674a83eb"
      },
      "source": [
        "y_pred = model_prova.predict_classes(X_test)#, batch_size = 20, verbose = 1)\n",
        "errori_commessi = 0\n",
        "corretto = 0\n",
        "count = 0\n",
        "print()\n",
        "for i in range(0, y_pred.size):\n",
        "    count += 1\n",
        "    if(np.around(y_pred[i], decimals = 0) != y_test[i]):\n",
        "        errori_commessi+=1\n",
        "    else:\n",
        "        corretto+=1\n",
        "\n",
        "cm = confusion_matrix(y_test,y_pred)\n",
        "\n",
        "print()\n",
        "print()\n",
        "print('Utilizzati come training set: ', np.array(y_train).size)\n",
        "print('Utilizzati come test set: ', np.array(y_pred).size)\n",
        "print()\n",
        "print('Previsioni Corrette: ', corretto)\n",
        "print('Errori Commessi: ', errori_commessi)\n",
        "accuratezza = round((corretto/np.array(y_pred).size*100),2)\n",
        "print('Accuratezza: ', accuratezza,'%')\n",
        "print()\n",
        "print(classification_report(y_test,y_pred))\n",
        "print('Matrice di Confusione:')\n",
        "print(cm)\n",
        "\n",
        "#or just use the sklearn accuracy metric\n",
        "from sklearn.metrics import accuracy_score\n",
        "print(\"Accuratezza con la funzione: \", accuracy_score(y_test,y_pred))"
      ],
      "execution_count": null,
      "outputs": [
        {
          "output_type": "stream",
          "text": [
            "\n",
            "\n",
            "\n",
            "Utilizzati come training set:  5471\n",
            "Utilizzati come test set:  1368\n",
            "\n",
            "Previsioni Corrette:  925\n",
            "Errori Commessi:  443\n",
            "Accuratezza:  67.62 %\n",
            "\n",
            "              precision    recall  f1-score   support\n",
            "\n",
            "           0       0.70      0.69      0.70       733\n",
            "           1       0.65      0.66      0.65       635\n",
            "\n",
            "    accuracy                           0.68      1368\n",
            "   macro avg       0.67      0.67      0.67      1368\n",
            "weighted avg       0.68      0.68      0.68      1368\n",
            "\n",
            "Matrice di Confusione:\n",
            "[[507 226]\n",
            " [217 418]]\n",
            "Accuratezza con la funzione:  0.6761695906432749\n"
          ],
          "name": "stdout"
        },
        {
          "output_type": "stream",
          "text": [
            "/usr/local/lib/python3.7/dist-packages/tensorflow/python/keras/engine/sequential.py:455: UserWarning: `model.predict_classes()` is deprecated and will be removed after 2021-01-01. Please use instead:* `np.argmax(model.predict(x), axis=-1)`,   if your model does multi-class classification   (e.g. if it uses a `softmax` last-layer activation).* `(model.predict(x) > 0.5).astype(\"int32\")`,   if your model does binary classification   (e.g. if it uses a `sigmoid` last-layer activation).\n",
            "  warnings.warn('`model.predict_classes()` is deprecated and '\n"
          ],
          "name": "stderr"
        }
      ]
    },
    {
      "cell_type": "code",
      "metadata": {
        "id": "tafHvsVNmOE8",
        "colab": {
          "base_uri": "https://localhost:8080/",
          "height": 282
        },
        "outputId": "a66dc676-ed8e-42c5-91d8-e76e8eac5720"
      },
      "source": [
        "import matplotlib.pyplot as plt\n",
        "from mlxtend.plotting import plot_confusion_matrix\n",
        "\n",
        "fig, ax = plot_confusion_matrix(conf_mat=cm)\n",
        "plt.show()"
      ],
      "execution_count": null,
      "outputs": [
        {
          "output_type": "display_data",
          "data": {
            "image/png": "[encoded data removed]",
            "text/plain": [
              "<Figure size 432x288 with 1 Axes>"
            ]
          },
          "metadata": {
            "tags": []
          }
        }
      ]
    },
    {
      "cell_type": "code",
      "metadata": {
        "id": "iMKBKgeprp6i",
        "colab": {
          "base_uri": "https://localhost:8080/"
        },
        "outputId": "88514032-8c40-4c62-daf3-0095dcda5cb6"
      },
      "source": [
        "#predizione di una frase \n",
        "x_sample = input(\"inserisci il tweet da predire: \")\n",
        "print(x_sample)\n",
        "x_sample = clean_text(x_sample)\n",
        "x_sample=[x_sample]\n",
        "print(x_sample)\n",
        "x_sample_token = tokenizer.texts_to_sequences(x_sample)\n",
        "print(x_sample_token)\n",
        "\n",
        "x_sample_token = pad_sequences(x_sample_token, padding = \"post\", maxlen = maxlen)\n",
        "print(x_sample_token)\n",
        "\n",
        "print(\"La predizione è: \")\n",
        "predizione = model_prova.predict_classes(x_sample_token)\n",
        "print(predizione)\n"
      ],
      "execution_count": null,
      "outputs": [
        {
          "output_type": "stream",
          "text": [
            "inserisci il tweet da predire: terroni ladri\n",
            "terroni ladri\n",
            "['terroni ladri']\n",
            "[[3639, 251]]\n",
            "[[3639  251    0    0    0    0    0    0    0    0    0    0    0    0\n",
            "     0    0    0    0    0    0    0    0    0    0    0    0    0    0\n",
            "     0    0    0    0    0    0    0    0    0    0]]\n",
            "La predizione è: \n",
            "[[1]]\n"
          ],
          "name": "stdout"
        },
        {
          "output_type": "stream",
          "text": [
            "/usr/local/lib/python3.7/dist-packages/tensorflow/python/keras/engine/sequential.py:455: UserWarning: `model.predict_classes()` is deprecated and will be removed after 2021-01-01. Please use instead:* `np.argmax(model.predict(x), axis=-1)`,   if your model does multi-class classification   (e.g. if it uses a `softmax` last-layer activation).* `(model.predict(x) > 0.5).astype(\"int32\")`,   if your model does binary classification   (e.g. if it uses a `sigmoid` last-layer activation).\n",
            "  warnings.warn('`model.predict_classes()` is deprecated and '\n"
          ],
          "name": "stderr"
        }
      ]
    },
    {
      "cell_type": "markdown",
      "metadata": {
        "id": "0EBI-9QHf_xV"
      },
      "source": [
        "**CAPIRE DOVE SBAGLIA IL MODELLO**"
      ]
    },
    {
      "cell_type": "code",
      "metadata": {
        "id": "3TnbUNwwf8qA"
      },
      "source": [
        "for i in range(0, len(Test_label)):\n",
        "\n",
        "  x_sample=[Test_record[i]]\n",
        "  x_sample_token = tokenizer.texts_to_sequences(x_sample)\n",
        "  x_sample_token = pad_sequences(x_sample_token, padding = \"post\", maxlen = maxlen)\n",
        "  predizione = model_dense.predict_classes(x_sample_token)\n",
        "  if predizione[0][0] != Test_label[i]:\n",
        "      print(\"Il modello ha predetto \"+str(predizione[0][0]))\n",
        "      print(\"Il record era classe \"+str(Test_label[i]))\n",
        "      print(Test_record[i])"
      ],
      "execution_count": null,
      "outputs": []
    }
  ]
}